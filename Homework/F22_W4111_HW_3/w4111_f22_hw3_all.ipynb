{
 "cells": [
  {
   "cell_type": "markdown",
   "metadata": {},
   "source": [
    "<style  type=\"text/css\"> \n",
    "</style>\n",
    "\n",
    "<b><center>\n",
    "<span style=\"font-size: 24pt; line-height: 1.2\">\n",
    "COMS W4111-003/V003 (Fall 2022)<br>Introduction to Databases\n",
    "</span>\n",
    "</center></b>\n",
    "</span><br>\n",
    "<p>\n",
    "<i><center>\n",
    "<span style=\"font-size: 20pt; line-height: 1.2\">\n",
    "Homework 3: Programming and Non-Programming Tracks\n",
    "</span>\n",
    "</center></i>"
   ]
  },
  {
   "cell_type": "markdown",
   "metadata": {},
   "source": [
    "__Note:__ Please replace the information below with your last name, first name and UNI.<br><br>\n",
    "\n",
    "\n",
    "\n",
    "<i>\n",
    "<span style=\"font-size: 20pt; line-height: 1.2\"; >\n",
    "Wu Tong, tw2906\n",
    "</span>\n",
    "</i>"
   ]
  },
  {
   "cell_type": "markdown",
   "metadata": {},
   "source": [
    "## Introduction\n",
    "\n",
    "### Objectives\n",
    "\n",
    "\n",
    "### Submission\n",
    "1. File > Download as > PDF via latex (.PDF) (Use the \"File\" menu option on the Jupyter notebook tool bar, not the option on the browser tool bar).\n",
    "2. Upload .pdf and .ipynb to GradeScope\n",
    "\n",
    "**This assignment is due December 7, 11:59 pm EDT**\n",
    "\n",
    "\n",
    "### Collaboration\n",
    "- You may use any information you get in TA or Prof. Ferguson's office hours, from lectures or from recitations.\n",
    "- You may use information that you find on the web.\n",
    "- You are NOT allowed to collaborate with other students outside of office hours.\n"
   ]
  },
  {
   "cell_type": "markdown",
   "metadata": {},
   "source": [
    "# Part A: Written Questions"
   ]
  },
  {
   "cell_type": "markdown",
   "metadata": {},
   "source": [
    "## W1: Disk Performance\n",
    "\n",
    "__Question:__\n",
    "\n",
    "Some databases use magnetic disks in a way that only setors in outer traks are\n",
    "used, while setors in inner traks are left unused. What might be the benefits\n",
    "of doing so?"
   ]
  },
  {
   "cell_type": "markdown",
   "metadata": {},
   "source": [
    "__Answer:__"
   ]
  },
  {
   "cell_type": "markdown",
   "metadata": {},
   "source": [
    "Because per inner track includes 500-1000 typical sections, but per outer track includes 1000-2000 typical sections, which has larger space. Also, only using outer track can reduce the response latency of the disk."
   ]
  },
  {
   "cell_type": "markdown",
   "metadata": {},
   "source": [
    "## W2: RAID\n",
    "\n",
    "__Question:__\n",
    "\n",
    "Briefly explain RAID-0, RAID-1 and RAID-5. Briefly explain pros and cons."
   ]
  },
  {
   "cell_type": "markdown",
   "metadata": {},
   "source": [
    "__Answer:__"
   ]
  },
  {
   "cell_type": "markdown",
   "metadata": {},
   "source": [
    "RAID-0 makes two physical disks to one logical faster disk. RAID-0 can let the data lay flat on two disks, which makes R/W speed 2X faster than two seprated disk, and has full capacity of two disks. However, it makes disks unreliable, since one of the RAID-0 disk defective will cause unrecoverable data loss.\n",
    "\n",
    "RAID-1 makes two physical disks to one disk, but more reliable. When data is written on the first disk, the second disk will \"mirroring\" the same data from the first disk, so if one of the disk defective, another disk has full mirrored data as backup. However, high reliability at the cost of losing half of the capacity.\n",
    "\n",
    "RAID-5 makes disks to form one logical disk, each disk contains a part of data and one part of parity block, the parity block can restore the defective data when one of disks is defective. RAID-5 improve utility from RAID-0, and improve the disk speed from RAID-1. However, RAID-5 can only tolerance one disk defective, and the disk speed will decrease a lot when a disk is defective because of the recalculating data."
   ]
  },
  {
   "cell_type": "markdown",
   "metadata": {},
   "source": [
    "## W3: Storage Hierarchy\n",
    "\n",
    "__Question:__\n",
    "\n",
    "Briefly explain the following levels of the storage hierarchy.\n",
    "- Cache\n",
    "- Main memory\n",
    "- Disk"
   ]
  },
  {
   "cell_type": "markdown",
   "metadata": {},
   "source": [
    "__Answer:__"
   ]
  },
  {
   "cell_type": "markdown",
   "metadata": {},
   "source": [
    "Cache is the primary storage, which has the fastest speed but volitale for data. Cache also called CPU memory using SRAM, which is physically nearby the CPU (about 5ns latency) in order to store the instructions and data that processor will use. Cache hierarchy is now mainly divided to three levels, L1, L2, and L3 cache. L1 is the cache closest to the CPU, so it has the fastest response time, but also the smallest capacity, typically 1MB. L3 cache is the most far away from CPU, but still more closer than MEM, but has the largest capacity, tipycally 64MB. In L1, L2 and L3 cache, L1 directly send words to the processor, and receive words from L2; L2 send words to L1 and receive words from L3; L3 send words to L2 and receiving blocks from main memory.\n",
    "\n",
    "Main memory is also the primary storage. Main memory also store the instructions and data that processor will use, but store more than cache. Different from the cache memory is transferring words to the processor, the main memory transferring blocks to the cache. The space of main memory is seprated to several blocks, and each blocks are \"mapped\" to each blocks in cache, direct mapped, fully associative and set associative will be used to manage the mapping, since the capacity of cache is far smaller than the main memory, which caused that a block in cache may mapped to several blocks in main memory. The relationship between main memory and cache is that, main memory will sends blocks of data that the controller think that the CPU may use. The controller decides which blocks will be sent is based on spatial locality and temporal locality. The policies used to writing to a cached memory location are write-back and write-through. These may do not need to expand at this question, but all these approaches and policies are in order to improve the cache hit rate, which directly determines the processor run speed and latency. These relationship and approaches built the memory hierarchy.\n",
    "\n",
    "Disk is the secondary storage, which has medium speed and is non-volitile. Disk mainly stores the data of program, personal data and others. Main memory will read data that needs to do operations and write back stroeable results."
   ]
  },
  {
   "cell_type": "markdown",
   "metadata": {},
   "source": [
    "## W4: Disks\n",
    "\n",
    "__Question:__\n",
    "\n",
    "Compare the pros and cons of hard disks versus SSDs."
   ]
  },
  {
   "cell_type": "markdown",
   "metadata": {},
   "source": [
    "__Answer:__"
   ]
  },
  {
   "cell_type": "markdown",
   "metadata": {},
   "source": [
    "Hard disk versus SSDs\n",
    "\n",
    "Pros: Cheaper than SSD, longer-life than SSD, easy to retore data from a defective HDD.\n",
    "\n",
    "Cons: Slow speed than SSD."
   ]
  },
  {
   "cell_type": "markdown",
   "metadata": {},
   "source": [
    "## W4: Disk Addressing\n",
    "\n",
    "__Question:__\n",
    "\n",
    "Briefly explain cylinder-sector-head addressing and logical block addressing."
   ]
  },
  {
   "cell_type": "markdown",
   "metadata": {},
   "source": [
    "__Answer:__"
   ]
  },
  {
   "cell_type": "markdown",
   "metadata": {},
   "source": [
    "CHS addressing using these three parameters to locate a specific sector unit. First the cylinder parameter let the head arms moves to a certain radius on the disk, and then active a specific head by head parameter. Finally the header will locate on a secor as the disk is spining.\n",
    "\n",
    "LBA addressing weak the hardware construction of storage devices, using number to locate the sector. The CHS can convert to LBA by using the equation LBA=(C\\*h+H)\\*s+S-1. Where \"s\" is the number of secors per track, and \"h\" is the number of heads per cylinder."
   ]
  },
  {
   "cell_type": "markdown",
   "metadata": {},
   "source": [
    "## W5: Record Management\n",
    "\n",
    "__Question:__\n",
    "\n",
    "Briefly explain the concepts of fixed length records and variable length records. What are some complexities that variable length records introduce?"
   ]
  },
  {
   "cell_type": "markdown",
   "metadata": {},
   "source": [
    "__Answer:__"
   ]
  },
  {
   "cell_type": "markdown",
   "metadata": {},
   "source": [
    "Fixed length records stores each record with fixed length, these records are stored into disk blocks, note that cross-block storing may occured. If a record need to be deleted from file, then (1) move all subsequent records forward, (2) move the last record to this location, or (3) flag the space and link all free space on a free list.  \n",
    "\n",
    "Variable length record will be used if a database need to store multiple type of records on a file, a record type allow variable length (varchar) or record type includes repeating fields. Slotted Page Structure is one approach of the variable length record, which will release the space and delete the entity number, all records in the left side of the deleted record will be right shifted, and right side will be left shifted to ensure the free space is on the centre of the block. "
   ]
  },
  {
   "cell_type": "markdown",
   "metadata": {},
   "source": [
    "## W6: File Organization\n",
    "\n",
    "__Question:__\n",
    "\n",
    "Briefly explain and compare heap file organization and sequential file organization."
   ]
  },
  {
   "cell_type": "markdown",
   "metadata": {},
   "source": [
    "__Answer:__"
   ]
  },
  {
   "cell_type": "markdown",
   "metadata": {},
   "source": [
    "Heap file organisation will insert recond at the end of the file, into the data blocks without sorting or ordering.\n",
    "\n",
    "Sequential file organisation will store the record in sequential, based on the value of the search key of each record."
   ]
  },
  {
   "cell_type": "markdown",
   "metadata": {},
   "source": [
    "## W7: Buffer Pool\n",
    "\n",
    "__Question:__\n",
    "\n",
    "What type of query might benefit from using most-recently-used eviction policy for buffer pool management?"
   ]
  },
  {
   "cell_type": "markdown",
   "metadata": {},
   "source": [
    "__Answer:__"
   ]
  },
  {
   "cell_type": "markdown",
   "metadata": {},
   "source": [
    "The MRU will speedup the scanning query, so the SQL query like \"SELECT * FROM table_name\" will benefit from MRU."
   ]
  },
  {
   "cell_type": "markdown",
   "metadata": {},
   "source": [
    "## W8: Row versus Column Storage\n",
    "\n",
    "__Question:__\n",
    "\n",
    "For which types of queries are column oriented storage beneficial?"
   ]
  },
  {
   "cell_type": "markdown",
   "metadata": {},
   "source": [
    "__Answer:__"
   ]
  },
  {
   "cell_type": "markdown",
   "metadata": {},
   "source": [
    "Column oriented storage speedup for querying some attributes, so the query like \"SELECT sum(num) FROM table_name WHERE id = 1\" will benefit."
   ]
  },
  {
   "cell_type": "markdown",
   "metadata": {},
   "source": [
    "## W9: Multi-table Clustering\n",
    "\n",
    "__Question:__\n",
    "\n",
    "For which types of queries might multi-table clustering be useful?"
   ]
  },
  {
   "cell_type": "markdown",
   "metadata": {},
   "source": [
    "__Answer:__"
   ]
  },
  {
   "cell_type": "markdown",
   "metadata": {},
   "source": [
    "Query that contains \"JOIN\" will benefit from multi-table clustering."
   ]
  },
  {
   "cell_type": "markdown",
   "metadata": {},
   "source": [
    "## W10: Indexes\n",
    "\n",
    "__Question:__\n",
    "\n",
    "Briefly explain and give the pros and cons of B+ tree indexes and hash indexes."
   ]
  },
  {
   "cell_type": "markdown",
   "metadata": {},
   "source": [
    "__Answer:__"
   ]
  },
  {
   "cell_type": "markdown",
   "metadata": {},
   "source": [
    "For B+ tree indexes, recorded nodes stored in the leaf nodes in order of size, and all paths from root to leaf has the same length. \n",
    "\n",
    "Pros: Searching is fast since the sequential linked list, provide a good efficiency if there are many redunant key. Can reduce disk I/O pressure. Insert and delete will not cost performance.\n",
    "\n",
    "Cons: Less efficiency on static table.\n",
    "\n",
    "Hash index use hash algorithm to transfer the key value to a new hash value.\n",
    "\n",
    "Pros: Searching is fast since it can find the location instantly. \n",
    "\n",
    "Cons: When there are lot of redundent keys, the efficiency of hash index will be slow."
   ]
  },
  {
   "cell_type": "markdown",
   "metadata": {},
   "source": [
    "## W11: Clustered Index\n",
    "\n",
    "__Question:__\n",
    "\n",
    "Why can there be only one clustered index for a database table?"
   ]
  },
  {
   "cell_type": "markdown",
   "metadata": {},
   "source": [
    "__Answer:__"
   ]
  },
  {
   "cell_type": "markdown",
   "metadata": {},
   "source": [
    "Because the rows can only stored in one order, each clustered index will change the sorted order."
   ]
  },
  {
   "cell_type": "markdown",
   "metadata": {},
   "source": [
    "## W12: Composite Indexes\n",
    "\n",
    "__Question:__\n",
    "\n",
    "Consider a table with columns:\n",
    "1. ```lastname```\n",
    "2. ```firstname```\n",
    "\n",
    "Assume common look ups were by ```firstname``` and ```lastname``` together, or just by ```lastname.``` What would be a disadvantage of creating an index on ```firstname```?"
   ]
  },
  {
   "cell_type": "markdown",
   "metadata": {},
   "source": [
    "__Answer:__"
   ]
  },
  {
   "cell_type": "markdown",
   "metadata": {},
   "source": [
    "Only create an index on firstname will cause that when lookup by firstname and lastname, the searching speed will not fast since it needs to do search on lastname which is not indexed, many redundent result will appears and needs to be searching by lastname. "
   ]
  },
  {
   "cell_type": "markdown",
   "metadata": {},
   "source": [
    "## W13: Query Optimization\n",
    "\n",
    "__Question:__\n",
    "\n",
    "Explain the concept of equivalent queries and their importance for query optimization."
   ]
  },
  {
   "cell_type": "markdown",
   "metadata": {},
   "source": [
    "__Answer:__"
   ]
  },
  {
   "cell_type": "markdown",
   "metadata": {},
   "source": [
    "Equivalent queires are not the same but can output the same result. Query optimisation can analyze and transform equivalent queries in order to minimize the tuple and minimise the process."
   ]
  },
  {
   "cell_type": "markdown",
   "metadata": {},
   "source": [
    "## W14: Operator Implementation\n",
    "\n",
    "__Question:__\n",
    "\n",
    "There are many possible algorithms for implementing a specific operator, e.g. JOIN. Give a scenario where a Sort-Merge Join is better than a hash join, and vice versa."
   ]
  },
  {
   "cell_type": "markdown",
   "metadata": {},
   "source": [
    "__Answer:__"
   ]
  },
  {
   "cell_type": "markdown",
   "metadata": {},
   "source": [
    "When there is a large table which is not indexed, then using Sort-Merge join is better than hash join."
   ]
  },
  {
   "cell_type": "markdown",
   "metadata": {},
   "source": [
    "When there is a small table but a large amount of data need to be joined, then using hash join is better than Sort-Merge join."
   ]
  },
  {
   "cell_type": "markdown",
   "metadata": {},
   "source": [
    "## W15: Optimizing via Index Creation\n",
    "\n",
    "__Question:__\n",
    "\n",
    "Consider a scenario in which the SQL statement is of the form ```SELECT DISTINCT c1, c2, c3 from T.``` Why might it make sense to create an index to optimize this query?"
   ]
  },
  {
   "cell_type": "markdown",
   "metadata": {},
   "source": [
    "__Answer:__"
   ]
  },
  {
   "cell_type": "markdown",
   "metadata": {},
   "source": [
    "The query using distinct in the sentense, so an index using B tree will help to speedup the query."
   ]
  }
 ],
 "metadata": {
  "kernelspec": {
   "display_name": "Python 3 (ipykernel)",
   "language": "python",
   "name": "python3"
  },
  "language_info": {
   "codemirror_mode": {
    "name": "ipython",
    "version": 3
   },
   "file_extension": ".py",
   "mimetype": "text/x-python",
   "name": "python",
   "nbconvert_exporter": "python",
   "pygments_lexer": "ipython3",
   "version": "3.9.12"
  }
 },
 "nbformat": 4,
 "nbformat_minor": 4
}
